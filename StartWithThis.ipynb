{
 "cells": [
  {
   "cell_type": "markdown",
   "metadata": {},
   "source": [
    "# Summary"
   ]
  },
  {
   "cell_type": "markdown",
   "metadata": {},
   "source": [
    "### 1. Preface"
   ]
  },
  {
   "cell_type": "markdown",
   "metadata": {},
   "source": [
    "As of now we plan to keep this thing in a Jupyter Notebook and have it available via myBinder (an online jupyter notebook 'compiler'). If by any chance you are familiar with languages like JavaScript, feel free to make it an actual webpage if possible.\n",
    "\n",
    "To have a Jupyter Notebook running on myBinder, the associated python version and the version of any library you need to import have to be specified. The runtime.txt file specifies python version, and the requirements.txt file lists out libraries. Again, these two .txt files are only for myBinder (ie. you don't have to touch them if you are only testing out things on your own device)."
   ]
  },
  {
   "cell_type": "markdown",
   "metadata": {},
   "source": [
    "I'm assuming basic familiarity with the Robinson&Catling 2012 paper, especially section 2. All reference to equations/figures with numbers are from this paper."
   ]
  },
  {
   "cell_type": "markdown",
   "metadata": {},
   "source": [
    "The Robinson & Catling 2012 paper mentioned three cases of the radiative convective model: the simplest case without starlight attenuation (k1=k2=0), the single channel with attenuation case, and the complete case where we have two shortwave channels with attenuation. \n",
    "\n",
    "For each of these cases, a system of equations needs to be solved. And with user defined parameters + solved parameters, we can calculate the T-P profile both in the radiative region and in the convective region.\n",
    "\n",
    "#### models.py \n",
    "It contains most of the calculations, more specifically:\n",
    "- Three functions (one for each case) solving the system of equations, see comments in this .py file for more details;\n",
    "- Two functions that calculate temperature given pressure (and other parameters), one for radaitive and one for convective.\n",
    "\n",
    "#### plotting.py\n",
    "It contains one function that takes all user input parameters and generates a T-P plot if possible. It also includes some error handling, so for example, if a certain function argument does not make sense (eg. is negative while it shouldn't be), the function stops trying to generate the plot. I'm not quite familiar with \"common practice\" in coding, and you'll see that my error handling is just a series of simple if-statement. for now.\n",
    "\n",
    "#### widget_plot.py\n",
    "It basically decides how the enter boxes look like: default values, layout, parameter names/descriptions, etc. (I put comments for basically all lines).\n",
    "\n",
    "#### Here below is an all-in-one notebook (three .py files gathered)"
   ]
  },
  {
   "cell_type": "markdown",
   "metadata": {},
   "source": [
    "### 2. Math"
   ]
  },
  {
   "cell_type": "code",
   "execution_count": 1,
   "metadata": {},
   "outputs": [],
   "source": [
    "#import libraries needed for the calculations\n",
    "import numpy as np\n",
    "import sympy as sp\n",
    "import matplotlib.pyplot as plt\n",
    "from scipy.special import gamma, gammaincc\n",
    "from scipy.optimize import fsolve\n",
    "import warnings\n",
    "warnings.filterwarnings(\"error\")"
   ]
  },
  {
   "cell_type": "code",
   "execution_count": 3,
   "metadata": {},
   "outputs": [],
   "source": [
    "#constants\n",
    "D = 1.66 #this is mentioned in the paper\n",
    "sigma = 5.67e-8"
   ]
  },
  {
   "cell_type": "markdown",
   "metadata": {},
   "source": [
    "Equation (13) in Robinson & Catling (2012) reads: $$F^+(\\tau)=\\sigma T_0^4e^{D\\tau}\\left[e^{-D\\tau_0}+\\frac{1}{(D\\tau_0)^{4\\beta/n}}\\left(\\Gamma\\left(1+\\frac{4\\beta}{n},D\\tau\\right)-\\Gamma\\left(1+\\frac{4\\beta}{n},D\\tau_0\\right)\\right)\\right],$$ (where the incomplete Gamma function as defined in Appendix is:$$\\Gamma(a,x)\\equiv \\int_x^{\\infty}t^{a-1}e^{-t}dt,$$ whereas scipy.special.gammaincc(a,x) computes:$$Q(a,x)=\\frac{1}{\\Gamma (a)}\\int_x^{\\infty}t^{a-1}e^{-t}dt\\Rightarrow \\Gamma(a,x)=Q(a,x)\\Gamma (a);$$)"
   ]
  },
  {
   "cell_type": "markdown",
   "metadata": {},
   "source": [
    "which, at $\\tau=\\tau_\\mathrm{rc}$, must agree with (equation 19):$$F^+(\\tau)=\\frac{F_1}{2}\\left[1+\\frac{D}{k_1}+\\left(1-\\frac{D}{k_1}\\right)e^{-k_1\\tau}\\right]+\\frac{F_2}{2}\\left[1+\\frac{D}{k_2}+\\left(1-\\frac{D}{k_2}\\right)e^{-k_2\\tau}\\right]+\\frac{F_i}{2}(2+D\\tau).$$"
   ]
  },
  {
   "cell_type": "markdown",
   "metadata": {},
   "source": [
    "So the first equality is:\n",
    "\\begin{equation}\\sigma T_0^4e^{D\\tau_\\mathrm{rc}}\\left[e^{-D\\tau_0}+\\frac{1}{(D\\tau_0)^{4\\beta/n}}\\left(\\Gamma\\left(1+\\frac{4\\beta}{n},D\\tau_\\mathrm{rc}\\right)-\\Gamma\\left(1+\\frac{4\\beta}{n},D\\tau_0\\right)\\right)\\right]=\\frac{F_1}{2}\\left[1+\\frac{D}{k_1}+\\left(1-\\frac{D}{k_1}\\right)e^{-k_1\\tau_\\mathrm{rc}}\\right]+\\frac{F_2}{2}\\left[1+\\frac{D}{k_2}+\\left(1-\\frac{D}{k_2}\\right)e^{-k_2\\tau_\\mathrm{rc}}\\right]+\\frac{F_i}{2}(2+D\\tau_\\mathrm{rc})\n",
    "\\end{equation}"
   ]
  },
  {
   "cell_type": "markdown",
   "metadata": {},
   "source": [
    "And the second one (equation 21):$$\\sigma T_0^4\\left(\\frac{\\tau_\\mathrm{rc}}{\\tau_0}\\right)^{4\\beta/n}=\\frac{F_1}{2}\\left[1+\\frac{D}{k_1}+\\left(\\frac{k_1}{D}-\\frac{D}{k_1}\\right)e^{-k_1\\tau_\\mathrm{rc}}\\right]+\\frac{F_2}{2}\\left[1+\\frac{D}{k_2}+\\left(\\frac{k_2}{D}-\\frac{D}{k_2}\\right)e^{-k_2\\tau_\\mathrm{rc}}\\right]+\\frac{F_i}{2}(2+D\\tau_\\mathrm{rc})$$"
   ]
  },
  {
   "cell_type": "markdown",
   "metadata": {},
   "source": [
    "with relevant parameters: $T_0$, $\\tau_\\mathrm{rc}$, $\\tau_0$, $\\alpha$, $\\gamma$, $n$, $F_1$, $k_1$, $F_2$, $k_2$, $F_i$; and with the relationship $$\\tau=\\tau_0\\left(\\frac{p}{p_0}\\right)^n.$$ This gives the first function that solves $\\tau_0$ and $\\tau_\\mathrm{rc}$ using user defined (throught enter boxes above the plotting zone) parameters:"
   ]
  },
  {
   "cell_type": "code",
   "execution_count": 6,
   "metadata": {},
   "outputs": [],
   "source": [
    "def taus(p0, T0, n, ga, a, \n",
    "         F1, F2, Fi, k1, k2, kir, \n",
    "         g, taurcest=1):\n",
    "    \"\"\"\n",
    "    Calculates optical depth at reference level and at the rc boundary\n",
    "    for two short-wave channels with attenuation.\n",
    "    \n",
    "    Parameters\n",
    "    input (floats):\n",
    "    p0: air pressure at reference level [bar]\n",
    "    T0: temperature at reference level [K]\n",
    "    n: pressure-IR optical depth scaling parameter, unitless\n",
    "    ga: ratio of specific heats (cp/cv) \n",
    "        depending on air constituents, unitless\n",
    "    a: average ratio of true lapse rate vs. \n",
    "        dry adiabatic lapse rate, unitless\n",
    "    Fi: internal flux [W/m^2]\n",
    "    F1(F2): TOA absorbed stellar flux in short-wave channel 1(2) [W/m^2]\n",
    "    k1(k2): ratio of short-wave attenuation in channel 1(2)\n",
    "            vs. thermal attenuation, unitless\n",
    "    kir: gray infrared extinction coefficient [m^2/kg]\n",
    "    g: planetary gravitationnal acceleration, \n",
    "        used for optical depth estimation [m/s^2]\n",
    "    taurcest: roughly estimated optical depth at rc boundary, unitless\n",
    "        \n",
    "    output:\n",
    "        optical depths at reference level & at rc boundary\n",
    "    \"\"\"\n",
    "    #4b/n factor\n",
    "    bn = 4*(a*(ga-1)/ga)/n\n",
    "    \n",
    "    def equations(t):\n",
    "        tau0, taurc = t\n",
    "        return ((F1/2.)*(1+D/k1+(1-D/k1)*sp.exp(-k1*taurc))+\\\n",
    "               (F2/2.)*(1+D/k2+(1-D/k2)*sp.exp(-k2*taurc))+\\\n",
    "               (Fi/2)*(2+D*taurc)-\\\n",
    "               sigma*T0**4*sp.exp(D*taurc)*(sp.exp(-D*tau0)+(1/(D*tau0)**bn)*\\\n",
    "               (gammaincc(1+bn,D*taurc)*gamma(1+bn)-gammaincc(1+bn,D*tau0)*gamma(1+bn))),\n",
    "               (F1/2.)*(1+D/k1+(k1/D-D/k1)*sp.exp(-k1*taurc))+\\\n",
    "               (F2/2.)*(1+D/k2+(k2/D-D/k2)*sp.exp(-k2*taurc))+\\\n",
    "               (Fi/2)*(2+D*taurc)-\\\n",
    "               sigma*T0**4*(taurc/tau0)**bn)\n",
    "    \n",
    "    \n",
    "    #kir: thermal extinction coefficient at p0, \n",
    "    #tau0 = kir(at p0) * p0/g\n",
    "    #Using the 'plug' relation the estimate a tau0 (optical depth at reference level)\n",
    "    \n",
    "    tau0est = kir*p0*100000/g #100000 for bar to Pa conversion, the paper uses bar for pressure\n",
    "    \n",
    "    #error catching so that the codes don't show random red error messages\n",
    "    try:\n",
    "        solutions = fsolve(equations,(tau0est,taurcest))\n",
    "    except RuntimeWarning:\n",
    "        print(\"No solution\")\n",
    "        return (-9999, -9999)\n",
    "\n",
    "        \n",
    "    print(\"Two short-wave channels with attenuation.\")\n",
    "    \n",
    "    return (solutions)"
   ]
  },
  {
   "cell_type": "markdown",
   "metadata": {},
   "source": [
    "The numerical solver that we currently use, scipy.optimize.fsolve, requires estimates for the variable you are trying to solve (this is the case for most (all?) numerical solver I believe). For the system of equations we have here, setting fixed estimates does not work well for large variation in atmospheric properties. Now we try to estimate $\\tau_0$, the optical depth at reference level, using the 'plug' relation you've learned in Climate Physics. So $$\\tau_0 = \\kappa_\\rm{IR}\\cdot p_0/g.$$ As for $\\tau_\\rm{RC}$ the optical depth at RC boundary, we are basically asking the user to try entering different values until the solver finds a solution (which is really inefficient and weird). Following are two other cases:"
   ]
  },
  {
   "cell_type": "code",
   "execution_count": 5,
   "metadata": {},
   "outputs": [],
   "source": [
    "def simpleRC(p0, T0, n, ga, a, F, Fi, kir, g, taurcest=1):\n",
    "    \"\"\"\n",
    "    Calculates optical depth at reference level and at the rc boundary\n",
    "    for the single channel without attenuation.\n",
    "    \n",
    "    Parameters (different from above)\n",
    "    input (float):\n",
    "    F: TOA absorbed net stellar flux (sum of F1 and F2) [W/m^2]\n",
    "    \"\"\"\n",
    "    bn = 4*(a*(ga-1)/ga)/n\n",
    "    \n",
    "    def equations(t):\n",
    "        tau0, taurc = t\n",
    "        return ((F+Fi)*(1+D*taurc)/2. - sigma*T0**4*(taurc/tau0)**bn,\n",
    "               sigma*T0**4*sp.exp(D*taurc)*(sp.exp(-D*tau0)+(1/(D*tau0)**bn)*\\\n",
    "               (gammaincc(1+bn,D*taurc)*gamma(1+bn)-gammaincc(1+bn,D*tau0)*gamma(1+bn)))-\\\n",
    "               (2+D*taurc)*(F+Fi)/2.)\n",
    "    \n",
    "    tau0est = kir*p0*100000/g\n",
    "    \n",
    "    try:\n",
    "        solutions = fsolve(equations,(tau0est,taurcest))\n",
    "    except RuntimeWarning:\n",
    "        print(\"No solution\")\n",
    "        return (-9999, -9999)\n",
    "    \n",
    "    print(\"Simplest case without short-wave attenuation.\")\n",
    "    \n",
    "    return (solutions)\n",
    "\n",
    "def single_atten(p0, T0, n, ga, a, F, Fi, k, kir, g, taurcest=1):\n",
    "    \"\"\"\n",
    "    Calculates optical depth at reference level and at the rc boundary\n",
    "    for the single channel model with attenuation.\n",
    "    \n",
    "    Parameters (different from above)\n",
    "    input (float):\n",
    "    F: TOA absorbed net stellar flux [W/m^2]\n",
    "    k: ratio of short-wave attenuation vs. thermal attenuation, unitless\n",
    "    \"\"\"\n",
    "    bn = 4*(a*(ga-1)/ga)/n\n",
    "    \n",
    "    def equations(t):\n",
    "        tau0, taurc = t\n",
    "        return ((F/2.)*(1+D/k+(1-D/k)*sp.exp(-k*taurc))+\\\n",
    "               (Fi/2)*(2+D*taurc)-\\\n",
    "               sigma*T0**4*sp.exp(D*taurc)*(sp.exp(-D*tau0)+(1/(D*tau0)**bn)*\\\n",
    "               (gammaincc(1+bn,D*taurc)*gamma(1+bn)-gammaincc(1+bn,D*tau0)*gamma(1+bn))),\n",
    "               (F/2.)*(1+D/k+(k/D-D/k)*sp.exp(-k*taurc))+\\\n",
    "               (Fi/2)*(2+D*taurc)-\\\n",
    "               sigma*T0**4*(taurc/tau0)**bn)\n",
    "    \n",
    "    tau0est = kir*p0*100000/g\n",
    "    \n",
    "    try:\n",
    "        solutions = fsolve(equations,(tau0est,taurcest))\n",
    "    except RuntimeWarning:\n",
    "        print(\"No solution\")\n",
    "        return (-9999, -9999)\n",
    "    \n",
    "    print(\"Single short-wave channel with attenuation.\")\n",
    "    \n",
    "    return (solutions)"
   ]
  },
  {
   "cell_type": "markdown",
   "metadata": {},
   "source": [
    "Now we have the functions to calculate temperature given a pressure value:"
   ]
  },
  {
   "cell_type": "code",
   "execution_count": 7,
   "metadata": {},
   "outputs": [],
   "source": [
    "def Erad(p, p0, n, F1, F2, Fi, k1, k2, tau0):#radiative region\n",
    "    #The \"if\" case is equation 24\n",
    "    #The \"else\" case is equation 18\n",
    "    #The \"elif\" cases are reduced from equation 18 \n",
    "    #(Robinson&Catling 2012)\n",
    "    \n",
    "    tau = tau0*(p/p0)**n\n",
    "    F = F1+F2 #in the single channel case we only have one Flux\n",
    "    \n",
    "    \n",
    "    if k1 == 0.0 and k2 == 0.0:#simple case without attenuation\n",
    "        return (((1+D*tau)*(F+Fi)/2.)/sigma)**(1/4)\n",
    "    \n",
    "    elif (k1 != 0.0 and k2 == 0.0):#single channel, user might choose either one\n",
    "        return ((((F/2)*(1+D/k1+(k1/D-D/k1)*np.exp(-k1*tau))+\n",
    "                (Fi/2)*(1+D*tau))/sigma)**(1/4))\n",
    "    elif (k1 == 0.0 and k2 != 0.0):#single channel\n",
    "        return ((((F/2)*(1+D/k2+(k2/D-D/k2)*np.exp(-k2*tau))+\n",
    "                (Fi/2)*(1+D*tau))/sigma)**(1/4))\n",
    "    else:\n",
    "        return ((((F1/2)*(1+D/k1+(k1/D-D/k1)*np.exp(-k1*tau))+\n",
    "                (F2/2)*(1+D/k2+(k2/D-D/k2)*np.exp(-k2*tau))+\n",
    "                (Fi/2)*(1+D*tau))/sigma)**(1/4))\n",
    "\n",
    "def Econv(p, p0, T0, n, ga, a):#convective region\n",
    "    #equation 10\n",
    "    return T0*(p/p0)**((a*(ga-1))/ga)"
   ]
  },
  {
   "cell_type": "markdown",
   "metadata": {},
   "source": [
    "### 3. Plotting"
   ]
  },
  {
   "cell_type": "code",
   "execution_count": 8,
   "metadata": {},
   "outputs": [],
   "source": [
    "import matplotlib.pyplot as plt"
   ]
  },
  {
   "cell_type": "markdown",
   "metadata": {},
   "source": [
    "Before diving into the large plotting function, I'll explain the parameters that are different from previous function arguments and from what's described in the paper. As you might have noticed, in the functions above, we used $k_1$/$k_2$ for ratio of short-wave attenuation in channel 1/2 vs. thermal attenuation, consistent with the paper. \n",
    "\n",
    "But since we are requiring $\\kappa_\\rm{IR}$, the gray infrared extinction coefficient, from the user, we have decided that we would also ask for UV extinction coefficient $\\kappa_\\rm{UV}$ and optical extinction coefficient $\\kappa_\\rm{op}$ (we are separating the two shortwave channels as UV and optical). To be clear, $k_1$ would just be the ratio $\\kappa_\\rm{UV}$/$\\kappa_\\rm{IR}$, and $k_2$ is $\\kappa_\\rm{op}$/$\\kappa_\\rm{IR}$.\n",
    "\n",
    "Again to be clear, we have:\n",
    "- User enters a $\\kappa_\\rm{UV}$, a $\\kappa_\\rm{op}$, and a $\\kappa_\\rm{IR}$;\n",
    "- The plotting function calculates the ratio $\\kappa_\\rm{UV}$/$\\kappa_\\rm{IR}$, assign the value to a variable named $k_1$;\n",
    "- The plotting function calculates the ratio $\\kappa_\\rm{op}$/$\\kappa_\\rm{IR}$, assign the value to a variable named $k_2$;\n",
    "- So basically when you see the calculation functions being called in the plotting function, the k1/k2 there has the same definition as described above."
   ]
  },
  {
   "cell_type": "code",
   "execution_count": 9,
   "metadata": {},
   "outputs": [],
   "source": [
    "def plot_TP(p0, T0, n, ga, a, F1, F2, Fi, kuv, kop, kir, g, taurcest):\n",
    "    \"\"\"\n",
    "    Plots the corresponding TP profile given user input parameters.\n",
    "    \n",
    "    Parameters\n",
    "    input (strings):\n",
    "    p0: air pressure at reference level [bar]\n",
    "    T0: temperature at reference level [K]\n",
    "    n: pressure-IR optical depth scaling parameter, unitless\n",
    "    ga: ratio of specific heats (cp/cv) \n",
    "        depending on air constituents, unitless\n",
    "    a: average ratio of true lapse rate vs. \n",
    "        dry adiabatic lapse rate, unitless\n",
    "    Fi: internal flux [W/m^2]\n",
    "    F1(F2): TOA absorbed stellar flux in short-wave channel 1(2) [W/m^2]\n",
    "    kuv: extinction coefficient in short-wave channel 1 \n",
    "        (UV as in Earth's case) [m^2/kg]\n",
    "    kop: extinction coefficient in short-wave channel 2 \n",
    "        (optical as in Earth's case) [m^2/kg]\n",
    "    kir: gray infrared extinction coefficient [m^2/kg]\n",
    "    g: planetary gravitationnal acceleration, \n",
    "        used for optical depth estimation [m/s^2]\n",
    "    taurcest: roughly estimated optical depth at rc boundary, unitless\n",
    "    \n",
    "    output:\n",
    "        None    \n",
    "    \"\"\"\n",
    "    #Check for most basic valid input\n",
    "    #Raises error if user input cannot be converted to float\n",
    "    #locals().items() is a list of all function arguments\n",
    "    for item in locals().items():\n",
    "        try:\n",
    "            float(item[1])#argument value\n",
    "        except ValueError:\n",
    "            print(item[0]+' must be a number.')#argument name\n",
    "            return\n",
    "        \n",
    "    #avoiding division by 0 error\n",
    "    kir = float(kir)\n",
    "    if kir <= 0.:\n",
    "        print(r'$\\kappa_\\mathrm{ir}$ must be strictly positive.')\n",
    "        return\n",
    "    \n",
    "    p0 = float(p0)\n",
    "    T0 = float(T0)\n",
    "    n = float(n)\n",
    "    ga = float(ga)\n",
    "    a = float(a)\n",
    "    F1 = float(F1)\n",
    "    F2 = float(F2)\n",
    "    Fi = float(Fi)\n",
    "    k1 = float(kuv)/kir#calculating required ratios\n",
    "    k2 = float(kop)/kir\n",
    "    g = float(g)\n",
    "    taurcest = float(taurcest)\n",
    "    \n",
    "    #Handling inputs that don't make sense\n",
    "    tmp = True\n",
    "    \n",
    "    #(F1+F2+Fi)/2=sigma*Tskin^4 sets the lower limit for T0\n",
    "    #So the temperature at reference level cannot be lower than the skin temperature\n",
    "    \n",
    "    #Tskin = ((F1+F2+Fi)/(2*sigma))**(1/4)\n",
    "    \n",
    "    if p0 < 0.:\n",
    "        print('p_0 must be non-negative.')\n",
    "        tmp = False\n",
    "    if T0 < 0.:\n",
    "        print('T_0 must be non-negative.')\n",
    "        tmp = False\n",
    "    if (n>2. or n<1.):\n",
    "        print('n takes value between 1 and 2.')\n",
    "        tmp = False\n",
    "    if (ga>2. or ga<1.):\n",
    "        print('γ takes value between 1 and 2.')\n",
    "        tmp = False\n",
    "    if (a>1. or a<0.):\n",
    "        print('α takes value between 0 and 1.')\n",
    "        tmp = False\n",
    "    if (F1<0. or F2<0. or Fi<0):\n",
    "        print('All fluxes must be non-negative.')\n",
    "        tmp = False\n",
    "    if (k1<0. or k2<0.):\n",
    "        print('All κ must be non-negative.')\n",
    "        tmp = False\n",
    "    if g<0.:\n",
    "        print('g must be non-negative.')\n",
    "        tmp = False\n",
    "    if taurcest<0.:\n",
    "        print('Est. τ must be non-negative.')\n",
    "        tmp = False\n",
    "    \"\"\"\n",
    "    Attempting to put higher level restrictions, other than these obvious ones\n",
    "    eg.\n",
    "    if T0 < Tskin:\n",
    "        print('The entered temperature at reference level (T0)\\n \n",
    "        is lower than the atmospheric skin temperature.')\n",
    "        tmp = False\n",
    "    \"\"\"          \n",
    "    if not tmp:\n",
    "        return\n",
    "            \n",
    "            \n",
    "    \n",
    "    fig, ax1 = plt.subplots(figsize=(7,5))\n",
    "    ax2 = ax1.twinx()#for y-axes on both sides\n",
    "        \n",
    "    if k1 == 0.0000 and k2 == 0.0000:#simple case\n",
    "        tau0, taurc = simpleRC(p0, T0, n, ga, a, F1+F2, Fi, kir, g, taurcest)   \n",
    "    elif (k1 != 0.0000 and k2 == 0.0000):#single channel with attenuation\n",
    "        #Assumption: users may choose either uv or optical as the single shortwave-channel\n",
    "        tau0, taurc = single_atten(p0, T0, n, ga, a, F1+F2, Fi, k1, kir, g, taurcest)\n",
    "    elif (k1 == 0.0000 and k2 != 0.0000):\n",
    "        tau0, taurc = single_atten(p0, T0, n, ga, a, F1+F2, Fi, k2, kir, g, taurcest)\n",
    "    else:#two channels with attenuation, the complete case    \n",
    "        tau0, taurc = taus(p0, T0, n, ga, a, F1, F2, Fi, k1, k2, kir, g, taurcest)\n",
    "        \n",
    "    if tau0 == -9999: #I've set the calculation function to return -9999 when no solution\n",
    "        return\n",
    "    \n",
    "    ps = np.linspace(0.001,p0,10000)\n",
    "    #the lower limit is set to p0 by default\n",
    "    #possible to become user-defined, because eg. Figure 6 extends to far below the reference level\n",
    "    \n",
    "    \n",
    "    #Potential possibility to make right vertical axis altitude\n",
    "    \n",
    "    ts = tau0*(ps/p0)**n #for the right vertical axis\n",
    "    \n",
    "    prc=p0*(taurc/tau0)**(1/n) #pressure at rc boundary\n",
    "    \n",
    "    #Calculates temperature profile\n",
    "    Ts=[]\n",
    "    for p in ps:#if higher than rc boundary than use the function for radiative region\n",
    "        #otherwise use convective region one\n",
    "        if p <= prc:\n",
    "            Ts.append(Erad(p, p0, n, F1, F2, Fi, k1, k2, tau0))\n",
    "        else:\n",
    "            Ts.append(Econv(p, p0, T0, n, ga, a))\n",
    "    \n",
    "    #Calculates pressure level corresponding to the minimum temperature\n",
    "    pmin = ps[Ts.index(min(Ts))]\n",
    "    #tau_tropopause\n",
    "    tautp = (pmin/p0)**n*tau0\n",
    "    \n",
    "    ax1.semilogy(Ts, ps,'r--')\n",
    "    \n",
    "    #generates a vertical axis on the right \n",
    "    #this plot is not display and is the same curve as ax1\n",
    "    ax2.semilogy(Ts, ts, linewidth=0)\n",
    "\n",
    "    ax1.plot([min(Ts)-20, max(Ts)+20],[prc,prc],'k:',label=\"RC boundary\")\n",
    "    ax1.plot([min(Ts)-20, max(Ts)+20],[pmin,pmin],linestyle='dashdot',color='k',label=\"Tropopause\")\n",
    "    \n",
    "    #plt.title('Atmospheric temperature-pressure profile\\n Calculated parameters:'+\n",
    "     #         r'$\\tau_0=$'+\n",
    "              #str(round(tau0,2))+\n",
    "              #r', $\\tau_\\mathrm{rc}=$'+\n",
    "              #str(round(taurc,2)))\n",
    "    \n",
    "    #This is for demonstration purpose, the commented block above shows the solutions\n",
    "    #returned by the numerical solver for convenience. \n",
    "    #You can change the title to that while testing.\n",
    "    plt.title('Atmospheric temperature-pressure profile\\n Temperatures:'+\n",
    "              r'$T_\\mathrm{surf}=$'+\n",
    "              str(int(T0))+\n",
    "              r'K , $T_\\mathrm{tropo}=$'+\n",
    "              str(int(min(Ts)))+\n",
    "              r'K , $T_\\mathrm{strato}=$'+\n",
    "              str(int(Ts[170]))+'K',fontsize=15)\n",
    "    \n",
    "    plt.xlim(min(Ts)-20, max(Ts)+20)\n",
    "    ax1.set_ylim(p0,.001)\n",
    "    ax2.set_ylim(max(ts),min(ts))\n",
    "    #ax2.set_ylim(min(zs),max(zs))\n",
    "    ax1.set_xlabel(\"Temperature [K]\",fontsize=13)\n",
    "    ax1.set_ylabel(\"Pressure [bar]\",fontsize=13)\n",
    "    ax2.set_ylabel(\"Thermal optical depth\",fontsize=13)\n",
    "    #ax2.set_ylabel(\"Altitude (m)\",fontsize=12)\n",
    "\n",
    "    #Formatting\n",
    "    plt.tick_params(top=True, right=True, direction='in', which='both')\n",
    "    ax1.legend(fontsize=12)\n",
    "\n",
    "    plt.show()"
   ]
  },
  {
   "cell_type": "markdown",
   "metadata": {},
   "source": [
    "### 4. Making the boxes+plotting zone UI"
   ]
  },
  {
   "cell_type": "code",
   "execution_count": 10,
   "metadata": {},
   "outputs": [],
   "source": [
    "from ipywidgets import interactive,interact, HBox, Layout,VBox\n",
    "import ipywidgets as widgets"
   ]
  },
  {
   "cell_type": "markdown",
   "metadata": {},
   "source": [
    "In addition to Table 1 in Robinson&Catling 2012, another paper by the same authors (http://faculty.washington.edu/dcatling/Robinson2014_0.1bar_Tropopause.pdf) lists out a few more sets of parameters for worlds including the Earth. The default parameters in the cell below are taken from there.\n",
    "\n",
    "The parameters are of course given in $k_1$/$k_2$ instead of our $\\kappa$'s. While testing these codes with examples, I've roughly estimated a $\\kappa_\\rm{IR}$ for Earth, and multiplied it by those $k_1$/$k_2$ to get UV/optical extinction coefficient. You would have to do such multiplication for each test cases. In future versions it would be ideal to have an option for users to choose to enter $k_1$/$k_2$ or the $\\kappa$'s.\n",
    "\n",
    "(Since what really matters in the calculation is the ratio, and the value of $\\kappa_\\rm{IR}$ is only used while estimating $\\tau_0$, while testing for other atmospheres (with known $\\tau$'s, so that you know the system has solution) you can probably put an arbitrary value for $\\kappa_\\rm{IR}$ and compute other two $\\kappa$'s using the given ratio.)"
   ]
  },
  {
   "cell_type": "code",
   "execution_count": 11,
   "metadata": {},
   "outputs": [],
   "source": [
    "def plotFinal():\n",
    "    \"\"\"\n",
    "    Maybe can add argument for different default planets?\n",
    "    \"\"\"\n",
    "    #The first argument (plot_TP) is the name of the plotting function\n",
    "    #It means that the following arguments all become plot_TP's arguments\n",
    "    #Default display/default values \n",
    "    #(all values are entered as strings and then converted to floats)\n",
    "    interactive_plot = interactive(plot_TP, p0='1.', T0='288', n='2.', ga='1.4', a='0.6',\n",
    "                                   F1='7.', F2='233.', Fi='0.0', kuv='1.6758e-2', kop='2.9792e-5', \n",
    "                                   kir='1.86e-4', g='9.8',taurcest = '0.1')\n",
    "    \n",
    "    #After entering value into each textbox, either click on another box\n",
    "    #or hit enter to apply change.\n",
    "    #If continuous_update was set to true, \n",
    "    #the plot will respond in the mean time as you try to enter stuff\n",
    "    for i in range(13):\n",
    "        interactive_plot.children[i].continuous_update=False\n",
    "    \n",
    "    \n",
    "    #These are the padding for the text to the left of each box\n",
    "    #The text that is supposed to be there is actually the long sentences a few lines below,\n",
    "    #but with padding you can make it display only the part in front of the ':'\n",
    "    #and user can check full description by mouse-hovering above that abbreviated name\n",
    "    \n",
    "    #style1 = {'description_width': '1em'}\n",
    "    style2 = {'description_width': '2em'}#2em works for most boxes\n",
    "    style4 = {'description_width': '4em'}\n",
    "    \n",
    "    #Description does not show r'$$' formatting\n",
    "    for i in range(12):\n",
    "        interactive_plot.children[i].style=style2\n",
    "        \n",
    "    interactive_plot.children[0].description=r'$p_0$: Air pressure at reference level [bar]'\n",
    "    interactive_plot.children[1].description=r'$T_0$: Temperature at reference level [K]'\n",
    "    interactive_plot.children[2].description=r'$n$: Pressure-IR optical depth scaling factor (unitless)'\n",
    "    interactive_plot.children[3].description=r'$\\gamma$: Ratio of specific heats (cp/cv) of major gas (unitless)'\n",
    "    interactive_plot.children[4].description=r'$\\alpha$: Average ratio of true lapse rate vs. dry adiabatic lapse rate (unitless)'\n",
    "    interactive_plot.children[5].description=r'$F_1$: TOA absorbed stellar flux in short-wave channel 1 [W/m^2]'\n",
    "    interactive_plot.children[6].description=r'$F_2$: TOA absorbed stellar flux in short-wave channel 2 [W/m^2]'\n",
    "    interactive_plot.children[7].description=r'$F_i$: Internal flux [W/m^2]'\n",
    "    interactive_plot.children[8].description=r'$\\kappa_\\mathrm{uv}$: Extinction coefficient in short-wave channel 1 [m^2/kg]'\n",
    "    interactive_plot.children[9].description=r'$\\kappa_\\mathrm{op}$: Extinction coefficient in short-wave channel 2 [m^2/kg]'\n",
    "    interactive_plot.children[10].description=r'$\\kappa_\\mathrm{ir}$: Gray infrared extinction coefficient [m^2/kg]'\n",
    "    interactive_plot.children[11].description=r'$g$: Planetary gravitationnal acceleration [m/s^2]'\n",
    "    \n",
    "    interactive_plot.children[12].description=r'Est. $\\tau_\\mathrm{rc}$:Roughly estimated optical depth at RC boundary (unitless)'\n",
    "    interactive_plot.children[12].style=style4\n",
    "\n",
    "    controls = HBox(interactive_plot.children[:-1], layout = Layout(flex_flow='row wrap'))\n",
    "    output = interactive_plot.children[-1]\n",
    "    \n",
    "    display(VBox([controls, output]))"
   ]
  },
  {
   "cell_type": "code",
   "execution_count": 13,
   "metadata": {},
   "outputs": [
    {
     "data": {
      "application/vnd.jupyter.widget-view+json": {
       "model_id": "fc8c72d225c5404ab78dd7cffd30d379",
       "version_major": 2,
       "version_minor": 0
      },
      "text/plain": [
       "VBox(children=(HBox(children=(Text(value='1.', continuous_update=False, description='$p_0$: Air pressure at re…"
      ]
     },
     "metadata": {},
     "output_type": "display_data"
    }
   ],
   "source": [
    "plotFinal()"
   ]
  },
  {
   "cell_type": "markdown",
   "metadata": {},
   "source": [
    "### 5. Problems"
   ]
  },
  {
   "cell_type": "markdown",
   "metadata": {},
   "source": [
    "You might have already noticed that this T-P profile generator is hardly functional as of now, since most of the time the solver fails to give solution (when you try arbitrary combination of values). Here below is the email I sent to Dr. Tyler Robinson:"
   ]
  },
  {
   "cell_type": "markdown",
   "metadata": {},
   "source": [
    "<img src=\"email.png\" align='left'>"
   ]
  },
  {
   "cell_type": "markdown",
   "metadata": {},
   "source": [
    "His answer:"
   ]
  },
  {
   "cell_type": "markdown",
   "metadata": {},
   "source": [
    "<img src=\"response.png\" align='left'>"
   ]
  },
  {
   "cell_type": "markdown",
   "metadata": {},
   "source": [
    "He was basically referring to the process of producing Figure 1 (Section 3.1 in Robinson&Catling 2012), which I believe was part of your Climate Physics coding project (?). \n",
    "\n",
    "Equation 30 combines equation 27 and 28, and has its solution contours shown in Figure 1. So if we, say, make an extended version of Figure 1 (you probably had similar codes to reproduce Figure 1 in the coding project):"
   ]
  },
  {
   "cell_type": "code",
   "execution_count": 22,
   "metadata": {},
   "outputs": [],
   "source": [
    "#the codes below will continue even if the solver fails somewhere\n",
    "#re-run the first code cell in this notebook if you want to go back to the cells above\n",
    "warnings.resetwarnings()"
   ]
  },
  {
   "cell_type": "code",
   "execution_count": 23,
   "metadata": {},
   "outputs": [],
   "source": [
    "Dtaurcs = np.linspace(.01,10.,50)\n",
    "\n",
    "#Defining equation 30\n",
    "\n",
    "def incGamma(bn, Dtau):#bn: 4beta/n, Dtau: either tau_0 or tau_rc\n",
    "    return gammaincc(1+bn,Dtau)*gamma(1+bn)\n",
    "\n",
    "def F1(Dtau0, Dtaurc, bn):#fsolve solves for the first function argument\n",
    "    tau0 = Dtau0/D\n",
    "    taurc = Dtaurc/D\n",
    "    \n",
    "    return ((tau0/taurc)**(bn)*np.exp(-Dtau0+Dtaurc)*\n",
    "            (1+(np.exp(Dtau0)/Dtau0**bn)*(incGamma(bn,Dtaurc)-incGamma(bn,Dtau0)))-\n",
    "            (2+Dtaurc)/(1+Dtaurc))"
   ]
  },
  {
   "cell_type": "code",
   "execution_count": 24,
   "metadata": {},
   "outputs": [
    {
     "name": "stderr",
     "output_type": "stream",
     "text": [
      "C:\\ProgramData\\Anaconda3\\lib\\site-packages\\scipy\\optimize\\minpack.py:163: RuntimeWarning: The iteration is not making good progress, as measured by the \n",
      "  improvement from the last ten iterations.\n",
      "  warnings.warn(msg, RuntimeWarning)\n"
     ]
    },
    {
     "data": {
      "image/png": "[encoded data removed]",
      "text/plain": [
       "<Figure size 576x432 with 1 Axes>"
      ]
     },
     "metadata": {},
     "output_type": "display_data"
    }
   ],
   "source": [
    "#Plotting \n",
    "ratios = []\n",
    "\n",
    "bns = np.linspace(.2, 1.0, 500)\n",
    "\n",
    "fig, ax = plt.subplots(figsize=(8,6))\n",
    "\n",
    "for Dtaurc in Dtaurcs:\n",
    "    Dtau0s = []\n",
    "    for bn in bns:\n",
    "        result = fsolve(F1, [.1],(Dtaurc,bn))\n",
    "        Dtau0s.append(result)\n",
    "        ratios.append(((Dtaurc/result)**bn/(1+Dtaurc),result,Dtaurc))\n",
    "    plt.semilogy(bns, Dtau0s, label = r\"$D\\tau_\\mathrm{rc} =$\"+str(Dtaurc))\n",
    "\n",
    "plt.xlim(.2, 1.0)\n",
    "plt.ylim(10, 0.01)\n",
    "plt.xlabel(r\"$4\\beta/n$\")\n",
    "plt.ylabel(\"reference optical depth,\\n\"+r\"$D\\tau_0$\")\n",
    "\n",
    "plt.axvspan(0.3, 0.5, color='k', alpha=0.2)\n",
    "\n",
    "#Formatting\n",
    "plt.tick_params(top=True, right=True, direction='in', which='both')\n",
    "plt.tick_params(pad=10,axis='x')\n",
    "ax.set_yticklabels(labels=['0','0.01', '0.10', '1.00', '10.00'])\n",
    "#plt.legend(bbox_to_anchor=(1, 1))\n",
    "\n",
    "plt.show()"
   ]
  },
  {
   "cell_type": "markdown",
   "metadata": {},
   "source": [
    "First, since each point in this plot corresponds to a set of $\\tau_0$, $\\tau_\\rm{RC}$ and 4$\\beta/n$, you would expect a corresponding temperature-flux relation for each point (by equation 27). Also, looking at the trend in this plot, we would expect some region in the space that would never be covered by these curves; meaning that there are certain temperature-flux relation that is not allowed. (My work had basically stopped here, so I didn't get a chance to dive deeper into these thoughts.)"
   ]
  },
  {
   "cell_type": "markdown",
   "metadata": {},
   "source": [
    "So it's maybe possible to come up with some constraints for $T_0$ and $F$ parameters (bound together). When the user enters a combination of these parameters that is physically or mathematically not allowed, the program will display an error message. This approach (for producing Figure 1) might also be useful to discover the constraints related to other combination of parameters."
   ]
  },
  {
   "cell_type": "markdown",
   "metadata": {},
   "source": [
    "Another feature that I didn't quite explore is described at the beginning of section 2.5 of the paper. It says that people might want a pair of parameters other than $\\tau_0$,$\\tau_\\rm{rc}$ as unknown parameters."
   ]
  },
  {
   "cell_type": "markdown",
   "metadata": {},
   "source": [
    "Feel free to email me (lan.zhu@mail.mcgill.ca) if anything was unclear in this Notebook, and good luck!!!!"
   ]
  },
  {
   "cell_type": "code",
   "execution_count": null,
   "metadata": {},
   "outputs": [],
   "source": []
  }
 ],
 "metadata": {
  "kernelspec": {
   "display_name": "Python 3",
   "language": "python",
   "name": "python3"
  },
  "language_info": {
   "codemirror_mode": {
    "name": "ipython",
    "version": 3
   },
   "file_extension": ".py",
   "mimetype": "text/x-python",
   "name": "python",
   "nbconvert_exporter": "python",
   "pygments_lexer": "ipython3",
   "version": "3.6.5"
  }
 },
 "nbformat": 4,
 "nbformat_minor": 2
}
