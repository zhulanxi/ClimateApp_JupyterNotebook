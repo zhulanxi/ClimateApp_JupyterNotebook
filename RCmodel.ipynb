{
 "cells": [
  {
   "cell_type": "code",
   "execution_count": 1,
   "metadata": {},
   "outputs": [],
   "source": [
    "%load_ext autoreload\n",
    "%autoreload 2\n",
    "import widget_plot"
   ]
  },
  {
   "cell_type": "markdown",
   "metadata": {},
   "source": [
    "### Run the following cell to start with an Earth-like atmosphere"
   ]
  },
  {
   "cell_type": "markdown",
   "metadata": {},
   "source": [
    "Description of each parameter can be viewed as mouseovers. Press enter or click elsewhere after making changes to parameters."
   ]
  },
  {
   "cell_type": "code",
   "execution_count": 2,
   "metadata": {},
   "outputs": [
    {
     "data": {
      "application/vnd.jupyter.widget-view+json": {
       "model_id": "c887554c23884dab9afaed76de4ec681",
       "version_major": 2,
       "version_minor": 0
      },
      "text/plain": [
       "VBox(children=(HBox(children=(Text(value='1.', continuous_update=False, description='$p_0$: Air pressure at re…"
      ]
     },
     "metadata": {},
     "output_type": "display_data"
    }
   ],
   "source": [
    "widget_plot.plotFinal()"
   ]
  },
  {
   "cell_type": "markdown",
   "metadata": {},
   "source": [
    "## System of equations"
   ]
  },
  {
   "cell_type": "markdown",
   "metadata": {},
   "source": [
    "### Thermal fluxes at RC boundary"
   ]
  },
  {
   "cell_type": "markdown",
   "metadata": {},
   "source": [
    "Equation (13) in Robinson & Catling (2012) reads: $$F^+(\\tau)=\\sigma T_0^4e^{D\\tau}\\left[e^{-D\\tau_0}+\\frac{1}{(D\\tau_0)^{4\\beta/n}}\\left(\\Gamma\\left(1+\\frac{4\\beta}{n},D\\tau\\right)-\\Gamma\\left(1+\\frac{4\\beta}{n},D\\tau_0\\right)\\right)\\right],$$ where the incomplete Gamma function as defined in Appendix is:$$\\Gamma(a,x)\\equiv \\int_x^{\\infty}t^{a-1}e^{-t}dt,$$ whereas scipy.special.gammaincc(a,x) computes:$$Q(a,x)=\\frac{1}{\\Gamma (a)}\\int_x^{\\infty}t^{a-1}e^{-t}dt\\Rightarrow \\Gamma(a,x)=Q(a,x)\\Gamma (a);$$"
   ]
  },
  {
   "cell_type": "markdown",
   "metadata": {},
   "source": [
    "which, at $\\tau=\\tau_\\mathrm{rc}$, must agree with (equation 19):$$F^+(\\tau)=\\frac{F_1}{2}\\left[1+\\frac{D}{k_1}+\\left(1-\\frac{D}{k_1}\\right)e^{-k_1\\tau}\\right]+\\frac{F_2}{2}\\left[1+\\frac{D}{k_2}+\\left(1-\\frac{D}{k_2}\\right)e^{-k_2\\tau}\\right]+\\frac{F_i}{2}(2+D\\tau).$$"
   ]
  },
  {
   "cell_type": "markdown",
   "metadata": {},
   "source": [
    "So the first equality is:\n",
    "\\begin{equation}\\sigma T_0^4e^{D\\tau_\\mathrm{rc}}\\left[e^{-D\\tau_0}+\\frac{1}{(D\\tau_0)^{4\\beta/n}}\\left(\\Gamma\\left(1+\\frac{4\\beta}{n},D\\tau_\\mathrm{rc}\\right)-\\Gamma\\left(1+\\frac{4\\beta}{n},D\\tau_0\\right)\\right)\\right]=\\frac{F_1}{2}\\left[1+\\frac{D}{k_1}+\\left(1-\\frac{D}{k_1}\\right)e^{-k_1\\tau_\\mathrm{rc}}\\right]+\\frac{F_2}{2}\\left[1+\\frac{D}{k_2}+\\left(1-\\frac{D}{k_2}\\right)e^{-k_2\\tau_\\mathrm{rc}}\\right]+\\frac{F_i}{2}(2+D\\tau_\\mathrm{rc})\n",
    "\\end{equation}"
   ]
  },
  {
   "cell_type": "markdown",
   "metadata": {},
   "source": [
    "And the second one (equation 21):$$\\sigma T_0^4\\left(\\frac{\\tau_\\mathrm{rc}}{\\tau_0}\\right)^{4\\beta/n}=\\frac{F_1}{2}\\left[1+\\frac{D}{k_1}+\\left(\\frac{k_1}{D}-\\frac{D}{k_1}\\right)e^{-k_1\\tau_\\mathrm{rc}}\\right]+\\frac{F_2}{2}\\left[1+\\frac{D}{k_2}+\\left(\\frac{k_2}{D}-\\frac{D}{k_2}\\right)e^{-k_2\\tau_\\mathrm{rc}}\\right]+\\frac{F_i}{2}(2+D\\tau_\\mathrm{rc})$$"
   ]
  },
  {
   "cell_type": "markdown",
   "metadata": {},
   "source": [
    "with relevant parameters: $T_0$, $\\tau_\\mathrm{rc}$, $\\tau_0$, $\\alpha$, $\\gamma$, $n$, $F_1$, $k_1$, $F_2$, $k_2$, $F_i$; and with the relationship $$\\tau=\\tau_0\\left(\\frac{p}{p_0}\\right)^n.$$"
   ]
  },
  {
   "cell_type": "markdown",
   "metadata": {},
   "source": [
    "($\\tau_0$ and $\\tau_\\mathrm{rc}$ should be solved and then entered as arguments into f)"
   ]
  }
 ],
 "metadata": {
  "kernelspec": {
   "display_name": "Python 3",
   "language": "python",
   "name": "python3"
  },
  "language_info": {
   "codemirror_mode": {
    "name": "ipython",
    "version": 3
   },
   "file_extension": ".py",
   "mimetype": "text/x-python",
   "name": "python",
   "nbconvert_exporter": "python",
   "pygments_lexer": "ipython3",
   "version": "3.6.5"
  }
 },
 "nbformat": 4,
 "nbformat_minor": 2
}
