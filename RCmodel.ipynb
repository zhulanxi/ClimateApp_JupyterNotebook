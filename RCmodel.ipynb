{
 "cells": [
  {
   "cell_type": "code",
   "execution_count": 7,
   "metadata": {},
   "outputs": [],
   "source": [
    "import numpy as np\n",
    "import sympy as sp\n",
    "import matplotlib.pyplot as plt\n",
    "from scipy.special import gamma, gammaincc\n",
    "from scipy.optimize import fsolve\n",
    "from ipywidgets import interactive,interact, HBox, Layout,VBox\n",
    "import ipywidgets as widgets"
   ]
  },
  {
   "cell_type": "markdown",
   "metadata": {},
   "source": [
    "## All 12 parameters manually specified without constraints"
   ]
  },
  {
   "cell_type": "code",
   "execution_count": 2,
   "metadata": {},
   "outputs": [],
   "source": [
    "#\"constants\"\n",
    "D = 1.66 #Diffusivity factor\n",
    "sigma = 5.67e-8"
   ]
  },
  {
   "cell_type": "code",
   "execution_count": 3,
   "metadata": {},
   "outputs": [],
   "source": [
    "n = 1.1 #opacity has slightly positive dependence on pressure\n",
    "ga = 1.4 #for N2-O2 mixture (N=5)\n",
    "a = 0.6 #moist/dry\n",
    "bn = 4*(a*(ga-1)/ga)/n\n",
    "F2 = 238 #Wm^-2, (1-0.3)*1361/4\n",
    "F1 = 0.05*F2 #Wm^-2, assume UV radiation is 5% of F2, from wikipedia\n",
    "Fi = 0.09 #Wm^-2, from wikipedia\n",
    "k1 = 7000 #(0.001/9.8)*kappa UV = 1, kappaUV/kappa longwave\n",
    "k2 = 0.6 #kappa shortwave from trenberth diagram (transmittance 184/341 Wm^-2)/kappa longwave\n",
    "taurc = 2/3\n",
    "tau0 = 1.5\n",
    "p0 = 1 #bar\n",
    "T0 = 288 #K\n",
    "#prc = 0.1 #typical tropopause pressure\n",
    "prc=(taurc/tau0)**(1/n)"
   ]
  },
  {
   "cell_type": "code",
   "execution_count": 4,
   "metadata": {},
   "outputs": [],
   "source": [
    "def Erad(p, p0, n, F1, F2, Fi, k1, k2, tau0):\n",
    "    tau = tau0*(p/p0)**n\n",
    "    return ((((F1/2)*(1+D/k1+(k1/D-D/k1)*np.exp(-k1*tau))+\n",
    "            (F2/2)*(1+D/k2+(k2/D-D/k2)*np.exp(-k2*tau))+\n",
    "            (Fi/2)*(1+D*tau))/sigma)**(1/4))\n",
    "\n",
    "def Econv(p, p0, T0, n, ga, a):\n",
    "    return T0*(p/p0)**((a*(ga-1))/ga)"
   ]
  },
  {
   "cell_type": "code",
   "execution_count": 5,
   "metadata": {},
   "outputs": [],
   "source": [
    "def f(p0, T0, n, ga, a, F1, F2, Fi, k1, k2, tau0, taurc):\n",
    "    plt.figure(figsize=(8,6))\n",
    "    ps = np.linspace(0.001,1.0,100)\n",
    "    prc=(taurc/tau0)**(1/n)\n",
    "    \n",
    "    Ts=[]\n",
    "    for p in ps:\n",
    "        if p <= prc:\n",
    "            Ts.append(Erad(p, p0, n, F1, F2, Fi, k1, k2, tau0))\n",
    "        else:\n",
    "            Ts.append(Econv(p, p0, T0, n, ga, a))\n",
    "    \n",
    "    plt.semilogy(Ts, ps,'--')\n",
    "\n",
    "    plt.plot([100, 1000],[prc,prc],'k:',label=\"Tropopause\")\n",
    "    plt.plot([100, 1000],[.001,.001],'k--',label=\"Stratopause\")\n",
    "\n",
    "    plt.xlim(100, 1000)\n",
    "    plt.ylim(1.0, 0.0001)\n",
    "    plt.xlabel(\"Temperature [K]\",fontsize=12)\n",
    "    plt.ylabel(\"Pressure [bar]\",fontsize=12)\n",
    "\n",
    "    #Formatting\n",
    "    plt.tick_params(top=True, right=True, direction='in', which='both')\n",
    "    plt.legend(fontsize=12)\n",
    "\n",
    "    plt.show()\n",
    "    \n",
    "#creating sliders corresponding to each f arguments\n",
    "\n",
    "interactive_plot = interactive(f, \n",
    "                               p0=(0.5,2), \n",
    "                               T0=(200.,300.),\n",
    "                               n=(1.,2.),\n",
    "                               ga=(1.,2.),\n",
    "                               a=(0.6,0.9,.01),\n",
    "                               F1=(0.05*200,0.05*1000),\n",
    "                               F2=(200.,1000.),\n",
    "                               Fi=(0.01,0.1,.01),\n",
    "                               k1=(1000,8000,1),\n",
    "                               k2=(0.1,0.9),\n",
    "                               tau0=(1.,2.),\n",
    "                               taurc=(1/3,1))\n",
    "\n",
    "#specifying slider names\n",
    "interactive_plot.children[0].description=r'$p_0$'\n",
    "interactive_plot.children[1].description=r'$T_0$'\n",
    "interactive_plot.children[2].description=r'$n$'\n",
    "interactive_plot.children[3].description=r'$\\gamma$'\n",
    "interactive_plot.children[4].description=r'$\\alpha$'\n",
    "interactive_plot.children[5].description=r'$F_1$'\n",
    "interactive_plot.children[6].description=r'$F_2$'\n",
    "interactive_plot.children[7].description=r'$F_i$'\n",
    "interactive_plot.children[8].description=r'$k_1$'\n",
    "interactive_plot.children[9].description=r'$k_2$'\n",
    "interactive_plot.children[10].description=r'$\\tau_0$'\n",
    "interactive_plot.children[11].description=r'$\\tau_\\mathrm{rc}$'\n",
    "\n",
    "controls = HBox(interactive_plot.children[:-1], layout = Layout(flex_flow='row wrap'))\n",
    "output = interactive_plot.children[-1]"
   ]
  },
  {
   "cell_type": "code",
   "execution_count": 6,
   "metadata": {},
   "outputs": [
    {
     "data": {
      "application/vnd.jupyter.widget-view+json": {
       "model_id": "fa657bcc6cdf4fc692a5ab857300ba5c",
       "version_major": 2,
       "version_minor": 0
      },
      "text/plain": [
       "VBox(children=(HBox(children=(FloatSlider(value=1.25, description='$p_0$', max=2.0, min=0.5), FloatSlider(valu…"
      ]
     },
     "metadata": {},
     "output_type": "display_data"
    }
   ],
   "source": [
    "display(VBox([controls, output]))"
   ]
  },
  {
   "cell_type": "markdown",
   "metadata": {},
   "source": [
    "## System of equations"
   ]
  },
  {
   "cell_type": "markdown",
   "metadata": {},
   "source": [
    "### Thermal fluxes at RC boundary"
   ]
  },
  {
   "cell_type": "markdown",
   "metadata": {},
   "source": [
    "Equation (13) in Robinson & Catling (2012) reads: $$F^+(\\tau)=\\sigma T_0^4e^{D\\tau}\\left[e^{-D\\tau_0}+\\frac{1}{(D\\tau_0)^{4\\beta/n}}\\left(\\Gamma\\left(1+\\frac{4\\beta}{n},D\\tau\\right)-\\Gamma\\left(1+\\frac{4\\beta}{n},D\\tau_0\\right)\\right)\\right],$$ where the incomplete Gamma function as defined in Appendix is:$$\\Gamma(a,x)\\equiv \\int_x^{\\infty}t^{a-1}e^{-t}dt,$$ whereas scipy.special.gammaincc(a,x) computes:$$Q(a,x)=\\frac{1}{\\Gamma (a)}\\int_x^{\\infty}t^{a-1}e^{-t}dt\\Rightarrow \\Gamma(a,x)=Q(a,x)\\Gamma (a);$$"
   ]
  },
  {
   "cell_type": "markdown",
   "metadata": {},
   "source": [
    "which, at $\\tau=\\tau_\\mathrm{rc}$, must agree with (equation 19):$$F^+(\\tau)=\\frac{F_1}{2}\\left[1+\\frac{D}{k_1}+\\left(1-\\frac{D}{k_1}\\right)e^{-k_1\\tau}\\right]+\\frac{F_2}{2}\\left[1+\\frac{D}{k_2}+\\left(1-\\frac{D}{k_2}\\right)e^{-k_2\\tau}\\right]+\\frac{F_i}{2}(2+D\\tau).$$"
   ]
  },
  {
   "cell_type": "markdown",
   "metadata": {},
   "source": [
    "So the first equality is:\n",
    "\\begin{equation}\\sigma T_0^4e^{D\\tau_\\mathrm{rc}}\\left[e^{-D\\tau_0}+\\frac{1}{(D\\tau_0)^{4\\beta/n}}\\left(\\Gamma\\left(1+\\frac{4\\beta}{n},D\\tau_\\mathrm{rc}\\right)-\\Gamma\\left(1+\\frac{4\\beta}{n},D\\tau_0\\right)\\right)\\right]=\\frac{F_1}{2}\\left[1+\\frac{D}{k_1}+\\left(1-\\frac{D}{k_1}\\right)e^{-k_1\\tau_\\mathrm{rc}}\\right]+\\frac{F_2}{2}\\left[1+\\frac{D}{k_2}+\\left(1-\\frac{D}{k_2}\\right)e^{-k_2\\tau_\\mathrm{rc}}\\right]+\\frac{F_i}{2}(2+D\\tau_\\mathrm{rc})\n",
    "\\end{equation}"
   ]
  },
  {
   "cell_type": "markdown",
   "metadata": {},
   "source": [
    "And the second one (equation 21):$$\\sigma T_0^4\\left(\\frac{\\tau_\\mathrm{rc}}{\\tau_0}\\right)^{4\\beta/n}=\\frac{F_1}{2}\\left[1+\\frac{D}{k_1}+\\left(\\frac{k_1}{D}-\\frac{D}{k_1}\\right)e^{-k_1\\tau_\\mathrm{rc}}\\right]+\\frac{F_2}{2}\\left[1+\\frac{D}{k_2}+\\left(\\frac{k_2}{D}-\\frac{D}{k_2}\\right)e^{-k_2\\tau_\\mathrm{rc}}\\right]+\\frac{F_i}{2}(2+D\\tau_\\mathrm{rc})$$"
   ]
  },
  {
   "cell_type": "markdown",
   "metadata": {},
   "source": [
    "with relevant parameters: $T_0$, $\\tau_\\mathrm{rc}$, $\\tau_0$, $\\alpha$, $\\gamma$, $n$, $F_1$, $k_1$, $F_2$, $k_2$, $F_i$; and with the relationship $$\\tau=\\tau_0\\left(\\frac{p}{p_0}\\right)^n.$$"
   ]
  },
  {
   "cell_type": "markdown",
   "metadata": {},
   "source": [
    "($\\tau_0$ and $\\tau_\\mathrm{rc}$ should be solved and then entered as arguments into f)"
   ]
  },
  {
   "cell_type": "code",
   "execution_count": 96,
   "metadata": {},
   "outputs": [],
   "source": [
    "def taus(p0, T0, n, ga, a, F1, F2, Fi, k1, k2):\n",
    "    \n",
    "    bn = 4*(a*(ga-1)/ga)/n\n",
    "    \n",
    "    def equations(t):\n",
    "        tau0, taurc = t\n",
    "        return ((F1/2.)*(1+D/k1+(1-D/k1)*sp.exp(-k1*taurc))+\\\n",
    "               (F2/2.)*(1+D/k2+(1-D/k2)*sp.exp(-k2*taurc))+\\\n",
    "               (Fi/2)*(2+D*taurc)-\\\n",
    "               sigma*T0**4*sp.exp(D*taurc)*(sp.exp(-D*tau0)+(1/(D*tau0)**bn)*\\\n",
    "               (gammaincc(1+bn,D*taurc)*gamma(1+bn)-gammaincc(1+bn,D*tau0)*gamma(1+bn))),\n",
    "               (F1/2.)*(1+D/k1+(k1/D-D/k1)*sp.exp(-k1*taurc))+\\\n",
    "               (F2/2.)*(1+D/k2+(k2/D-D/k2)*sp.exp(-k2*taurc))+\\\n",
    "               (Fi/2)*(2+D*taurc)-\\\n",
    "               sigma*T0**4*(taurc/tau0)**bn)\n",
    "    \n",
    "    #tau0, taurc = sp.symbols('tau0, tau')\n",
    "    \n",
    "    solutions = fsolve(equations,(1.5,2/3))\n",
    "    \n",
    "    return(solutions)"
   ]
  },
  {
   "cell_type": "code",
   "execution_count": 97,
   "metadata": {},
   "outputs": [
    {
     "name": "stderr",
     "output_type": "stream",
     "text": [
      "C:\\ProgramData\\Anaconda3\\lib\\site-packages\\scipy\\optimize\\minpack.py:163: RuntimeWarning: The iteration is not making good progress, as measured by the \n",
      "  improvement from the last five Jacobian evaluations.\n",
      "  warnings.warn(msg, RuntimeWarning)\n"
     ]
    },
    {
     "data": {
      "text/plain": [
       "array([10.34030138,  3.89151002])"
      ]
     },
     "execution_count": 97,
     "metadata": {},
     "output_type": "execute_result"
    }
   ],
   "source": [
    "#Titan\n",
    "taus(1.1, 191., 2., 1.4, 0.85, 1.3, 7., 5.4, 100., 0.06)"
   ]
  },
  {
   "cell_type": "code",
   "execution_count": 107,
   "metadata": {},
   "outputs": [],
   "source": [
    "def ten_params(p0, T0, n, ga, a, F1, F2, Fi, k1, k2):\n",
    "    p0 = float(p0)\n",
    "    T0 = float(T0)\n",
    "    n = float(n)\n",
    "    ga = float(ga)\n",
    "    a = float(a)\n",
    "    F1 = float(F1)\n",
    "    F2 = float(F2)\n",
    "    Fi = float(Fi)\n",
    "    k1 = float(k1)\n",
    "    k2 = float(k2)\n",
    "    \n",
    "    \n",
    "    plt.figure(figsize=(8,6))\n",
    "    ps = np.linspace(0.001,1.4,1000)\n",
    "    \n",
    "    tau0, taurc = taus(p0, T0, n, ga, a, F1, F2, Fi, k1, k2)\n",
    "    \n",
    "    prc=p0*(taurc/tau0)**(1/n)\n",
    "    \n",
    "    Ts=[]\n",
    "    for p in ps:\n",
    "        if p <= prc:\n",
    "            Ts.append(Erad(p, p0, n, F1, F2, Fi, k1, k2, tau0))\n",
    "        else:\n",
    "            Ts.append(Econv(p, p0, T0, n, ga, a))\n",
    "    \n",
    "    plt.semilogy(Ts, ps,'--')\n",
    "\n",
    "    plt.plot([min(Ts)-20, max(Ts)+20],[prc,prc],'k:',label=\"Tropopause\")\n",
    "    plt.plot([min(Ts)-20, max(Ts)+20],[.001,.001],'k--',label=\"Stratopause\")\n",
    "\n",
    "    plt.title(r'$\\tau_0=$'+\n",
    "              str(round(tau0,2))+\n",
    "              r', $\\tau_\\mathrm{rc}=$'+\n",
    "              str(round(taurc,2))+\n",
    "              r', $p_\\mathrm{rc}=$'+\n",
    "              str(round(prc,2)))\n",
    "    \n",
    "    plt.xlim(min(Ts)-20, max(Ts)+20)\n",
    "    plt.ylim(1.5, 0.0001)\n",
    "    plt.xlabel(\"Temperature [K]\",fontsize=12)\n",
    "    plt.ylabel(\"Pressure [bar]\",fontsize=12)\n",
    "\n",
    "    #Formatting\n",
    "    plt.tick_params(top=True, right=True, direction='in', which='both')\n",
    "    plt.legend(fontsize=12)\n",
    "\n",
    "    plt.show()\n",
    "    \n",
    "#creating sliders corresponding to each f arguments\n",
    "\n",
    "interactive_plot = interactive(ten_params, p0='1.5', T0='94', n='1.33333', ga='1.4', a='0.77',\n",
    "                               F1='1.5', F2='1.1', Fi='0', k1='120', k2='0.2')\n",
    "\n",
    "#specifying slider names\n",
    "interactive_plot.children[0].description=r'$p_0$'\n",
    "interactive_plot.children[1].description=r'$T_0$'\n",
    "interactive_plot.children[2].description=r'$n$'\n",
    "interactive_plot.children[3].description=r'$\\gamma$'\n",
    "interactive_plot.children[4].description=r'$\\alpha$'\n",
    "interactive_plot.children[5].description=r'$F_1$'\n",
    "interactive_plot.children[6].description=r'$F_2$'\n",
    "interactive_plot.children[7].description=r'$F_i$'\n",
    "interactive_plot.children[8].description=r'$k_1$'\n",
    "interactive_plot.children[9].description=r'$k_2$'\n",
    "\n",
    "controls = HBox(interactive_plot.children[:-1], layout = Layout(flex_flow='row wrap'))\n",
    "output = interactive_plot.children[-1]"
   ]
  },
  {
   "cell_type": "markdown",
   "metadata": {},
   "source": [
    "### Jupiter (model c)"
   ]
  },
  {
   "cell_type": "code",
   "execution_count": 99,
   "metadata": {},
   "outputs": [
    {
     "data": {
      "application/vnd.jupyter.widget-view+json": {
       "model_id": "17ffe3edc53a407fb964bd29e23730e9",
       "version_major": 2,
       "version_minor": 0
      },
      "text/plain": [
       "VBox(children=(HBox(children=(Text(value='1.5', description='$p_0$'), Text(value='94', description='$T_0$'), T…"
      ]
     },
     "metadata": {},
     "output_type": "display_data"
    },
    {
     "data": {
      "text/plain": [
       "<Figure size 576x432 with 0 Axes>"
      ]
     },
     "metadata": {},
     "output_type": "display_data"
    },
    {
     "data": {
      "text/plain": [
       "<Figure size 576x432 with 0 Axes>"
      ]
     },
     "metadata": {},
     "output_type": "display_data"
    },
    {
     "data": {
      "text/plain": [
       "<Figure size 576x432 with 0 Axes>"
      ]
     },
     "metadata": {},
     "output_type": "display_data"
    }
   ],
   "source": [
    "display(VBox([controls, output]))"
   ]
  },
  {
   "cell_type": "markdown",
   "metadata": {},
   "source": [
    "### Titan (model n=4/3)"
   ]
  },
  {
   "cell_type": "code",
   "execution_count": 108,
   "metadata": {},
   "outputs": [
    {
     "data": {
      "application/vnd.jupyter.widget-view+json": {
       "model_id": "d820c45c8dbb427bb08afe673aa9d3b6",
       "version_major": 2,
       "version_minor": 0
      },
      "text/plain": [
       "VBox(children=(HBox(children=(Text(value='1.5', description='$p_0$'), Text(value='94', description='$T_0$'), T…"
      ]
     },
     "metadata": {},
     "output_type": "display_data"
    }
   ],
   "source": [
    "display(VBox([controls, output]))"
   ]
  },
  {
   "cell_type": "code",
   "execution_count": null,
   "metadata": {},
   "outputs": [],
   "source": []
  }
 ],
 "metadata": {
  "kernelspec": {
   "display_name": "Python 3",
   "language": "python",
   "name": "python3"
  },
  "language_info": {
   "codemirror_mode": {
    "name": "ipython",
    "version": 3
   },
   "file_extension": ".py",
   "mimetype": "text/x-python",
   "name": "python",
   "nbconvert_exporter": "python",
   "pygments_lexer": "ipython3",
   "version": "3.6.5"
  }
 },
 "nbformat": 4,
 "nbformat_minor": 2
}
